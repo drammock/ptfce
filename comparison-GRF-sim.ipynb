{
 "cells": [
  {
   "cell_type": "markdown",
   "id": "c29e95d3",
   "metadata": {},
   "source": [
    "# Run pTFCE on simulated data in Python and R\n",
    "\n",
    "The R package `pTFCE` carries assumptions about the nature of the data (smoothness, gaussianity, etc) so it's not possible to take an MEG dSPM source estimate (which will violate those assumptions) and expect the R package to give a reasonable answer. So to compare our Python implementation with the R package, we'll start by simulating some fake data that *does* conform to the assumptions of the method (viz, gaussian random field theory)."
   ]
  },
  {
   "cell_type": "code",
   "execution_count": 1,
   "id": "cd0d2a84",
   "metadata": {},
   "outputs": [],
   "source": [
    "%load_ext rpy2.ipython"
   ]
  },
  {
   "cell_type": "code",
   "execution_count": 2,
   "id": "b703ff70",
   "metadata": {},
   "outputs": [],
   "source": [
    "from functools import reduce\n",
    "\n",
    "import matplotlib.pyplot as plt\n",
    "import nibabel as nib\n",
    "import numpy as np\n",
    "from FyeldGenerator import generate_field\n",
    "from mne.stats import combine_adjacency\n",
    "from nilearn.plotting import plot_glass_brain\n",
    "from rpy2.robjects.vectors import IntVector\n",
    "from scipy.stats import multivariate_normal, norm, zscore\n",
    "\n",
    "from ptfce import plot_null_distr, ptfce, timer\n",
    "\n",
    "# configuration variables\n",
    "rng = np.random.default_rng(seed=15485863)  # the one millionth prime\n",
    "n_iter = 20\n",
    "shape = (64, 64, 16)\n",
    "assert len(shape) == 3, 'need 3 dimensions for R code to work'\n",
    "r_shape = IntVector(shape)  # for passing to R cell"
   ]
  },
  {
   "cell_type": "markdown",
   "id": "30f1b70b",
   "metadata": {},
   "source": [
    "First we define a helper function to generate (possibly multiple iterations of) some GRF background noise of a given size."
   ]
  },
  {
   "cell_type": "code",
   "execution_count": 3,
   "id": "deb468eb",
   "metadata": {},
   "outputs": [],
   "source": [
    "def make_grf_noise(size, n_iter):\n",
    "    \"\"\"Simulate gaussian random fields.\"\"\"\n",
    "    result = np.empty((n_iter,) + tuple(size))\n",
    "\n",
    "    def stat(size):\n",
    "        return rng.normal(size=size) + 1j * rng.normal(size=size)\n",
    "\n",
    "    def power(freq):\n",
    "        with np.testing.suppress_warnings() as sup:\n",
    "            sup.filter(RuntimeWarning,\n",
    "                       'divide by zero encountered in true_divide')\n",
    "            return 1 / freq\n",
    "\n",
    "    for _iter in range(n_iter):\n",
    "        result[_iter] = generate_field(\n",
    "            statistic=stat, power_spectrum=power, shape=size)\n",
    "    return result"
   ]
  },
  {
   "cell_type": "markdown",
   "id": "102817b2",
   "metadata": {},
   "source": [
    "Next we generate a noisy signal and z-score it (as is typically done with MRI data)."
   ]
  },
  {
   "cell_type": "code",
   "execution_count": 4,
   "id": "7a3bd773",
   "metadata": {},
   "outputs": [],
   "source": [
    "# make fake signal (mixed with noise)\n",
    "background = make_grf_noise(shape, 1)[0]\n",
    "indices = np.array(list(np.ndindex(shape))) - np.array(shape) // 2\n",
    "mean = (0,) * len(shape)\n",
    "signal = multivariate_normal(mean=mean).pdf(indices / 5).reshape(shape)\n",
    "data = background + 1.5 * signal\n",
    "data = zscore(data, axis=None)"
   ]
  },
  {
   "cell_type": "markdown",
   "id": "70168a52",
   "metadata": {},
   "source": [
    "Running pTFCE in R requires the data to be in Nifti format, but `rpy2` can't pass Nifti format between Python and R, so we'll pass in the `data` array, and pass back the enhanced data after extracting it from the Nifti container."
   ]
  },
  {
   "cell_type": "code",
   "execution_count": 5,
   "id": "43a922a4",
   "metadata": {},
   "outputs": [
    {
     "name": "stderr",
     "output_type": "stream",
     "text": [
      "R[write to console]: oro.nifti 0.11.0\n",
      "\n"
     ]
    },
    {
     "name": "stdout",
     "output_type": "stream",
     "text": [
      "* Estimating smoothness based on the data...\n",
      "  |======================================================================| 100%\n",
      "* Performing pTFCE...\n",
      "  |======================================================================| 100%\n"
     ]
    }
   ],
   "source": [
    "%%R -i data -i r_shape -o enhanced_img_R\n",
    "\n",
    "library(oro.nifti)\n",
    "library(pTFCE)\n",
    "\n",
    "# avoid non-finite values in R\n",
    "data[data > 37] <- 37\n",
    "\n",
    "img <- nifti(data, dim=r_shape, datatype=16)\n",
    "mask <- nifti(array(1, dim=r_shape))\n",
    "\n",
    "result <- ptfce(img, mask)\n",
    "enhanced_img_R <- result$Z@.Data"
   ]
  },
  {
   "cell_type": "markdown",
   "id": "d4311cdf",
   "metadata": {},
   "source": [
    "For the Python implementation, we pre-compute a noise distribution (and z-score it). We also need an adjacency matrix (passing `*shape` will create a regular lattice adjacency of the right size for our data)."
   ]
  },
  {
   "cell_type": "code",
   "execution_count": 6,
   "id": "0a185b6b",
   "metadata": {},
   "outputs": [],
   "source": [
    "# make several iterations of just noise\n",
    "noise = make_grf_noise(shape, n_iter)\n",
    "_noise = zscore(noise.reshape(n_iter, -1), axis=-1)\n",
    "# make adjacency matrix\n",
    "adjacency = combine_adjacency(*shape)\n",
    "# calc max cluster size\n",
    "max_cluster_size = reduce(np.multiply, shape)"
   ]
  },
  {
   "cell_type": "markdown",
   "id": "4d9a2073",
   "metadata": {},
   "source": [
    "Now we'll run pTFCE using our Python implementation:"
   ]
  },
  {
   "cell_type": "code",
   "execution_count": 7,
   "id": "18110872",
   "metadata": {},
   "outputs": [
    {
     "name": "stdout",
     "output_type": "stream",
     "text": [
      "running pTFCE: calculating source activation prior: 0.0182 sec.\n"
     ]
    },
    {
     "data": {
      "application/vnd.jupyter.widget-view+json": {
       "model_id": "bf573391c37a4af88636ba60e0be0687",
       "version_major": 2,
       "version_minor": 0
      },
      "text/plain": [
       "running noise simulations:   0%|          | 0/20 [00:00<?, ?simulation/s]"
      ]
     },
     "metadata": {},
     "output_type": "display_data"
    },
    {
     "data": {
      "application/vnd.jupyter.widget-view+json": {
       "model_id": "",
       "version_major": 2,
       "version_minor": 0
      },
      "text/plain": [
       "finding clusters at each threshold:   0%|          | 0/100 [00:00<?, ?threshold/s]"
      ]
     },
     "metadata": {},
     "output_type": "display_data"
    },
    {
     "data": {
      "application/vnd.jupyter.widget-view+json": {
       "model_id": "",
       "version_major": 2,
       "version_minor": 0
      },
      "text/plain": [
       "finding clusters at each threshold:   0%|          | 0/100 [00:00<?, ?threshold/s]"
      ]
     },
     "metadata": {},
     "output_type": "display_data"
    },
    {
     "data": {
      "application/vnd.jupyter.widget-view+json": {
       "model_id": "",
       "version_major": 2,
       "version_minor": 0
      },
      "text/plain": [
       "finding clusters at each threshold:   0%|          | 0/100 [00:00<?, ?threshold/s]"
      ]
     },
     "metadata": {},
     "output_type": "display_data"
    },
    {
     "data": {
      "application/vnd.jupyter.widget-view+json": {
       "model_id": "",
       "version_major": 2,
       "version_minor": 0
      },
      "text/plain": [
       "finding clusters at each threshold:   0%|          | 0/100 [00:00<?, ?threshold/s]"
      ]
     },
     "metadata": {},
     "output_type": "display_data"
    },
    {
     "data": {
      "application/vnd.jupyter.widget-view+json": {
       "model_id": "",
       "version_major": 2,
       "version_minor": 0
      },
      "text/plain": [
       "finding clusters at each threshold:   0%|          | 0/100 [00:00<?, ?threshold/s]"
      ]
     },
     "metadata": {},
     "output_type": "display_data"
    },
    {
     "data": {
      "application/vnd.jupyter.widget-view+json": {
       "model_id": "",
       "version_major": 2,
       "version_minor": 0
      },
      "text/plain": [
       "finding clusters at each threshold:   0%|          | 0/100 [00:00<?, ?threshold/s]"
      ]
     },
     "metadata": {},
     "output_type": "display_data"
    },
    {
     "data": {
      "application/vnd.jupyter.widget-view+json": {
       "model_id": "",
       "version_major": 2,
       "version_minor": 0
      },
      "text/plain": [
       "finding clusters at each threshold:   0%|          | 0/100 [00:00<?, ?threshold/s]"
      ]
     },
     "metadata": {},
     "output_type": "display_data"
    },
    {
     "data": {
      "application/vnd.jupyter.widget-view+json": {
       "model_id": "",
       "version_major": 2,
       "version_minor": 0
      },
      "text/plain": [
       "finding clusters at each threshold:   0%|          | 0/100 [00:00<?, ?threshold/s]"
      ]
     },
     "metadata": {},
     "output_type": "display_data"
    },
    {
     "data": {
      "application/vnd.jupyter.widget-view+json": {
       "model_id": "",
       "version_major": 2,
       "version_minor": 0
      },
      "text/plain": [
       "finding clusters at each threshold:   0%|          | 0/100 [00:00<?, ?threshold/s]"
      ]
     },
     "metadata": {},
     "output_type": "display_data"
    },
    {
     "data": {
      "application/vnd.jupyter.widget-view+json": {
       "model_id": "",
       "version_major": 2,
       "version_minor": 0
      },
      "text/plain": [
       "finding clusters at each threshold:   0%|          | 0/100 [00:00<?, ?threshold/s]"
      ]
     },
     "metadata": {},
     "output_type": "display_data"
    },
    {
     "data": {
      "application/vnd.jupyter.widget-view+json": {
       "model_id": "",
       "version_major": 2,
       "version_minor": 0
      },
      "text/plain": [
       "finding clusters at each threshold:   0%|          | 0/100 [00:00<?, ?threshold/s]"
      ]
     },
     "metadata": {},
     "output_type": "display_data"
    },
    {
     "data": {
      "application/vnd.jupyter.widget-view+json": {
       "model_id": "",
       "version_major": 2,
       "version_minor": 0
      },
      "text/plain": [
       "finding clusters at each threshold:   0%|          | 0/100 [00:00<?, ?threshold/s]"
      ]
     },
     "metadata": {},
     "output_type": "display_data"
    },
    {
     "data": {
      "application/vnd.jupyter.widget-view+json": {
       "model_id": "",
       "version_major": 2,
       "version_minor": 0
      },
      "text/plain": [
       "finding clusters at each threshold:   0%|          | 0/100 [00:00<?, ?threshold/s]"
      ]
     },
     "metadata": {},
     "output_type": "display_data"
    },
    {
     "data": {
      "application/vnd.jupyter.widget-view+json": {
       "model_id": "",
       "version_major": 2,
       "version_minor": 0
      },
      "text/plain": [
       "finding clusters at each threshold:   0%|          | 0/100 [00:00<?, ?threshold/s]"
      ]
     },
     "metadata": {},
     "output_type": "display_data"
    },
    {
     "data": {
      "application/vnd.jupyter.widget-view+json": {
       "model_id": "",
       "version_major": 2,
       "version_minor": 0
      },
      "text/plain": [
       "finding clusters at each threshold:   0%|          | 0/100 [00:00<?, ?threshold/s]"
      ]
     },
     "metadata": {},
     "output_type": "display_data"
    },
    {
     "data": {
      "application/vnd.jupyter.widget-view+json": {
       "model_id": "",
       "version_major": 2,
       "version_minor": 0
      },
      "text/plain": [
       "finding clusters at each threshold:   0%|          | 0/100 [00:00<?, ?threshold/s]"
      ]
     },
     "metadata": {},
     "output_type": "display_data"
    },
    {
     "data": {
      "application/vnd.jupyter.widget-view+json": {
       "model_id": "",
       "version_major": 2,
       "version_minor": 0
      },
      "text/plain": [
       "finding clusters at each threshold:   0%|          | 0/100 [00:00<?, ?threshold/s]"
      ]
     },
     "metadata": {},
     "output_type": "display_data"
    },
    {
     "data": {
      "application/vnd.jupyter.widget-view+json": {
       "model_id": "",
       "version_major": 2,
       "version_minor": 0
      },
      "text/plain": [
       "finding clusters at each threshold:   0%|          | 0/100 [00:00<?, ?threshold/s]"
      ]
     },
     "metadata": {},
     "output_type": "display_data"
    },
    {
     "data": {
      "application/vnd.jupyter.widget-view+json": {
       "model_id": "",
       "version_major": 2,
       "version_minor": 0
      },
      "text/plain": [
       "finding clusters at each threshold:   0%|          | 0/100 [00:00<?, ?threshold/s]"
      ]
     },
     "metadata": {},
     "output_type": "display_data"
    },
    {
     "data": {
      "application/vnd.jupyter.widget-view+json": {
       "model_id": "",
       "version_major": 2,
       "version_minor": 0
      },
      "text/plain": [
       "finding clusters at each threshold:   0%|          | 0/100 [00:00<?, ?threshold/s]"
      ]
     },
     "metadata": {},
     "output_type": "display_data"
    },
    {
     "name": "stdout",
     "output_type": "stream",
     "text": [
      "calculating cluster size distribution from noise: 0.0802 sec.\n"
     ]
    },
    {
     "data": {
      "application/vnd.jupyter.widget-view+json": {
       "model_id": "fcc80adf569640148a9640b6ae2ec54e",
       "version_major": 2,
       "version_minor": 0
      },
      "text/plain": [
       "finding clusters in real data:   0%|          | 0/100 [00:00<?, ?threshold/s]"
      ]
     },
     "metadata": {},
     "output_type": "display_data"
    },
    {
     "name": "stdout",
     "output_type": "stream",
     "text": [
      "aggregating and adjusting probabilities: 0.0640 sec.\n",
      "935.4146 sec.\n"
     ]
    }
   ],
   "source": [
    "# compute pTFCE\n",
    "with timer('running pTFCE'):\n",
    "    (_ptfce,\n",
    "     all_thresholds,\n",
    "     unaggregated_probs,\n",
    "     source_activation_density_func,\n",
    "     all_noise_cluster_sizes,\n",
    "     cluster_size_density_func,\n",
    "     all_data_clusters_by_thresh,\n",
    "     all_data_cluster_sizes_by_thresh\n",
    "     ) = ptfce(data.ravel(), adjacency, _noise,\n",
    "               max_cluster_size=max_cluster_size, seed=rng)\n",
    "\n",
    "# convert back to original shape\n",
    "pvals = _ptfce.reshape(shape)\n",
    "enhanced_img = norm.isf(pvals)"
   ]
  },
  {
   "cell_type": "markdown",
   "id": "6a01e1e1",
   "metadata": {},
   "source": [
    "Finally, plot to compare the results"
   ]
  },
  {
   "cell_type": "code",
   "execution_count": 9,
   "id": "29d9c6e6",
   "metadata": {},
   "outputs": [
    {
     "data": {
      "text/plain": [
       "<matplotlib.colorbar.Colorbar at 0x7f4f4a2d9690>"
      ]
     },
     "execution_count": 9,
     "metadata": {},
     "output_type": "execute_result"
    },
    {
     "data": {
      "image/png": "[encoded data removed]",
      "text/plain": [
       "<Figure size 1152x432 with 4 Axes>"
      ]
     },
     "metadata": {
      "needs_background": "light"
     },
     "output_type": "display_data"
    }
   ],
   "source": [
    "# precompute color limits\n",
    "clim = (min(data.min(), enhanced_img.min(), enhanced_img_R.min()),\n",
    "        max(data.max(), enhanced_img.max(), enhanced_img_R.max()))\n",
    "\n",
    "titles = ('original', 'Python', 'R')\n",
    "arrays = (data, enhanced_img, enhanced_img_R)\n",
    "\n",
    "fig, axs = plt.subplots(1, 3, sharex=True, sharey=True)\n",
    "fig.set_size_inches(16, 6)\n",
    "\n",
    "# show a slice through the middle of the volume, where the \"signal\" was\n",
    "slice_idx = shape[-1] // 2\n",
    "\n",
    "for ax, title, array in zip(axs, titles, arrays):\n",
    "    ax.imshow(array[..., slice_idx], cmap='Greys', clim=clim)\n",
    "    ax.set(title=title)\n",
    "# fig.tight_layout()\n",
    "fig.colorbar(ax.images[0], ax=axs, shrink=0.5, label='z-score')"
   ]
  }
 ],
 "metadata": {
  "kernelspec": {
   "display_name": "Python [conda env:mnedev] *",
   "language": "python",
   "name": "conda-env-mnedev-py"
  },
  "language_info": {
   "codemirror_mode": {
    "name": "ipython",
    "version": 3
   },
   "file_extension": ".py",
   "mimetype": "text/x-python",
   "name": "python",
   "nbconvert_exporter": "python",
   "pygments_lexer": "ipython3",
   "version": "3.10.4"
  }
 },
 "nbformat": 4,
 "nbformat_minor": 5
}
